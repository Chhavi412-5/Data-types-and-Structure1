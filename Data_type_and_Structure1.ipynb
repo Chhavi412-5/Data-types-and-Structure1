{
  "nbformat": 4,
  "nbformat_minor": 0,
  "metadata": {
    "colab": {
      "provenance": []
    },
    "kernelspec": {
      "name": "python3",
      "display_name": "Python 3"
    },
    "language_info": {
      "name": "python"
    }
  },
  "cells": [
    {
      "cell_type": "markdown",
      "source": [
        "**THEORY** **QUESTIONS**"
      ],
      "metadata": {
        "id": "3a_Ob4z8M_mj"
      }
    },
    {
      "cell_type": "markdown",
      "source": [
        "1. What are data structures, and why are they important?\n",
        "\n",
        "Ans Data structure is basically a way of organising and storing data, so that it can be easily accessed and manipulated efficiently.\n",
        "\n",
        "They are important because:\n",
        "\n",
        "\n",
        "*  Choosing the right data structure significantly impacts the efficiency and performance of your program.\n",
        "\n",
        "*  \n",
        "Well-chosen data structures can:\n",
        "*  Simplify data manipulation (adding, removing, modifying elements)\n",
        "\n",
        "\n",
        "\n",
        "\n",
        "\n",
        "\n",
        "\n",
        "\n",
        "\n",
        "\n",
        "\n"
      ],
      "metadata": {
        "id": "BQ4gXnPHNGbW"
      }
    },
    {
      "cell_type": "markdown",
      "source": [
        "2.  Explain the difference between mutable and immutable data types with examples.\n",
        "\n",
        "Ans **Mutable data type:**\n",
        "The data type which allows the user to add, remove or modify the data.\n",
        "For example, List, dictionary, set etc.\n",
        "\n",
        "**Immutable data type:**\n",
        "The data type which does not allows the user to modify the data.\n",
        "For example, Tuple, string etc."
      ],
      "metadata": {
        "id": "ekR0xYn5NxhM"
      }
    },
    {
      "cell_type": "markdown",
      "source": [
        "3. What are the main differences between lists and tuples in Python?\n",
        "\n",
        "Ans **Lists**:  \n",
        " List is muttable data type.\n",
        "\n",
        "Iteration over lists is time-consuming.\n",
        "\n",
        "Lists have several built-in methods.\n",
        "\n",
        "**Tuples**:\n",
        "\n",
        " Tuples are immutable.\n",
        "\n",
        " Iterations over tuple is faster.\n",
        "\n",
        " Tuples have fewer built-in methods.\n"
      ],
      "metadata": {
        "id": "nT_z1GKQPfvx"
      }
    },
    {
      "cell_type": "markdown",
      "source": [
        "4. Describe how dictionaries store data.\n",
        "\n",
        "Ans Dictionaries store unordered data in the form of key value pair. Each key is unique and immutable."
      ],
      "metadata": {
        "id": "IcehTcfOpK2G"
      }
    },
    {
      "cell_type": "markdown",
      "source": [
        "5. Why might you use a set instead of a list in Python?\n",
        "\n",
        "Ans"
      ],
      "metadata": {
        "id": "2hvQJkmOpdKX"
      }
    },
    {
      "cell_type": "markdown",
      "source": [
        "6. What is a string in Python, and how is it different from a list?\n",
        "\n",
        "Ans String is a data type in which characters arranged in an unchangeable order. Each character in the string can be accessed by its index, or position. Substrings can be extracted using slicing.\n",
        "\n",
        "String is immutable where as List is muttable."
      ],
      "metadata": {
        "id": "nprMF9eApkAU"
      }
    },
    {
      "cell_type": "markdown",
      "source": [
        "7. How do tuples ensure data integrity in Python?\n",
        "\n",
        "Ans Immutability: Prevents unintentional changes\n",
        "\n",
        "Hashability: Enables safe use as keys in sets/dictionaries\n",
        "\n",
        "Consistency:\tGuarantees stable structure & values\n",
        "\n",
        "Semantic Clarity:\tSignals data should not be modified"
      ],
      "metadata": {
        "id": "ZiS9wLKgQIvI"
      }
    },
    {
      "cell_type": "markdown",
      "source": [
        "8. What is a hash table, and how does it relate to dictionaries in Python?\n",
        "\n",
        "Ans A hash table is a data structure that stores key-value pairs and allows for fast data retrieval based on the key. It works by applying a hash function to the key to determine where to store or retrieve the value in memory.\n",
        "\n",
        "Speed: Key-based lookups are extremely fast.\n",
        "\n",
        "Flexibility: Any hashable object (like strings, numbers, tuples) can be used as keys.\n",
        "\n",
        "Reliability: Hash tables help maintain fast and predictable access to data even in large collections."
      ],
      "metadata": {
        "id": "8A5AT7NWRWqu"
      }
    },
    {
      "cell_type": "markdown",
      "source": [
        "9. Can lists contain different data types in Python?\n",
        "\n",
        "Ans Yes, list contains string, integer, float, boolean and even other data structures like dictionaries or nested lists."
      ],
      "metadata": {
        "id": "90SR0SDVUTCL"
      }
    },
    {
      "cell_type": "markdown",
      "source": [
        "10. Explain why strings are immutable in Python?\n",
        "\n",
        "Ans Strings are immutable in Python, meaning once a string is created, it cannot be changed. Any operation that seems to modify a string actually creates a new string object.\n",
        "\n",
        "Performance:\tReuse memory (string interning)\n",
        "\n",
        "Hashability:\tUse in dicts and sets safely\n",
        "\n",
        "Thread Safety:\tAvoid race conditions\n",
        "\n",
        "Predictable Behavior:\tEasier debugging and fewer bugs\n"
      ],
      "metadata": {
        "id": "ni--KzPgU8Sg"
      }
    },
    {
      "cell_type": "markdown",
      "source": [
        "11. What advantages do dictionaries offer over lists for certain tasks?\n",
        "\n",
        "Ans **1. Fast Lookups (Constant-Time Access)**\n",
        "\n",
        "Dictionaries provide O(1) average time complexity for lookup, insert, and delete operations using a key.\n",
        "\n",
        "Lists require O(n) time for searching an item by value or index (if the position is unknown).\n",
        "\n",
        "**2. No Need for Searching Keys**\n",
        "\n",
        "With dictionaries, you directly access a value by its key.\n",
        "\n",
        "With lists (especially lists of tuples), you often have to loop and check for the correct item.\n",
        "\n",
        "\n",
        "**3.** **Avoiding Duplicates**\n",
        "\n",
        "Dictionary keys are unique. This helps prevent duplicate keys and makes data integrity easier to maintain.\n",
        "\n",
        "\n"
      ],
      "metadata": {
        "id": "SooP4JVKMWZ_"
      }
    },
    {
      "cell_type": "markdown",
      "source": [
        "12. Describe a scenario where using a tuple would be preferable over a list.\n",
        "\n",
        "Ans A tuple is preferable over a list in scenarios where immutability, performance, or integrity is important. Here's a common and practical scenario:\n",
        "\n",
        "\n",
        "Scenario: Representing Fixed Data Points (e.g., GPS Coordinates)\n",
        "\n",
        "Imagine you're building a system to store and process GPS coordinates (latitude, longitude). Since each coordinate is a fixed pair of values that shouldn't change, a tuple is ideal.\n"
      ],
      "metadata": {
        "id": "dOrToyxdONZr"
      }
    },
    {
      "cell_type": "markdown",
      "source": [
        "13.  How do sets handle duplicate values in Python?\n",
        "\n",
        "Ans Sets automatically remove duplicates.\n",
        "\n",
        "Great for deduplication, membership testing, and set operations (union, intersection, difference).\n",
        "\n",
        "Only immutable, hashable types can be set elements (e.g., numbers, strings, tuples—not lists or dictionaries).\n",
        "\n"
      ],
      "metadata": {
        "id": "cDqPwCDNO9Ni"
      }
    },
    {
      "cell_type": "markdown",
      "source": [
        "14. How does the “in” keyword work differently for lists and dictionaries?\n",
        "\n",
        "Ans\n",
        "🔹**'in' with Lists:**\n",
        "\n",
        "Checks if a value exists in the list.\n",
        "\n",
        "Performs a linear search, so time complexity is O(n).\n",
        "\n",
        "🔹 **'in' with Dictionaries:**\n",
        "\n",
        "Checks if a key exists in the dictionary.\n",
        "\n",
        "Uses a hash table, so time complexity is typically O(1).\n",
        "\n"
      ],
      "metadata": {
        "id": "fmDc9k-vPlwX"
      }
    },
    {
      "cell_type": "markdown",
      "source": [
        "15. Can you modify the elements of a tuple? Explain why or why not.\n",
        "\n",
        "Ans No we can not modify the elements of a tuple because tuple is immutable data type. It promotes data integrity."
      ],
      "metadata": {
        "id": "LXVZ-_3aQm8X"
      }
    },
    {
      "cell_type": "markdown",
      "source": [
        "16. What is a nested dictionary, and give an example of its use case?\n",
        "\n",
        "Ans A nested dictionary in Python is a dictionary inside another dictionary. It allows you to store hierarchical or grouped data, where each key maps to another dictionary instead of a single value.\n",
        "**Great for organizing complex data like:**\n",
        "\n",
        "Students grouped by class\n",
        "\n",
        "Products by category\n",
        "\n",
        "Configurations by environment (dev, test, prod)\n"
      ],
      "metadata": {
        "id": "d6654jpARJfw"
      }
    },
    {
      "cell_type": "markdown",
      "source": [
        "17. Describe the time complexity of accessing elements in a dictionary.\n",
        "\n",
        "Ans Accessing an element by its key is extremely fast.\n",
        "\n",
        "Python dictionaries use hash tables under the hood.\n",
        "\n",
        "The key is hashed, and the hash is used to quickly find the value.\n",
        "\n"
      ],
      "metadata": {
        "id": "IaxnM0BvRz-L"
      }
    },
    {
      "cell_type": "markdown",
      "source": [
        "18. In what situations are lists preferred over dictionaries?\n",
        "\n",
        "Ans **1. Order and Sequence Matter**\n",
        "\n",
        "Lists maintain the order of elements naturally (from index 0 onward).\n",
        "\n",
        "Great when we need to process items in a specific order.\n",
        "\n",
        "**2. Homogeneous Data Collections**\n",
        "\n",
        "Lists are suitable for storing repeated types of data, like a list of integers, strings, or objects.\n",
        "\n",
        "**3. Maintaining Duplicates**\n",
        "\n",
        "Unlike dictionaries (which require unique keys), lists allow duplicates.\n",
        "\n",
        "\n"
      ],
      "metadata": {
        "id": "SJKDim8USZwe"
      }
    },
    {
      "cell_type": "markdown",
      "source": [
        "19. Why are dictionaries considered unordered, and how does that affect data retrieval?\n",
        "\n",
        "Ans Dictionaries are unordered in intent: access by key, not position.\n",
        "\n",
        "In Python 3.7+, they preserve insertion order, but that doesn't change their core behavior.\n",
        "\n",
        "If we need index-based or ordered data processing, consider using a list.\n",
        "\n"
      ],
      "metadata": {
        "id": "0wIymAEDTpOo"
      }
    },
    {
      "cell_type": "markdown",
      "source": [
        "**Practical** **questions**"
      ],
      "metadata": {
        "id": "1kuIU4XMUCSA"
      }
    },
    {
      "cell_type": "markdown",
      "source": [
        "20. Explain the difference between a list and a dictionary in terms of data retrieval.\n",
        "\n",
        "Ans **List**: Data Retrieved by Index (Position)\n",
        "\n",
        "A list is an ordered collection.\n",
        "\n",
        "Elements are accessed using their position (integer index).\n",
        "\n",
        "**Dictionary**: Data Retrieved by Key\n",
        "\n",
        "A dictionary is an unordered (logical) collection of key-value pairs.\n",
        "\n",
        "Elements are accessed using their key, not index.\n"
      ],
      "metadata": {
        "id": "hiFdAe-uU7mB"
      }
    },
    {
      "cell_type": "markdown",
      "source": [
        "1. Write a code to create a string with your name and print it.\n"
      ],
      "metadata": {
        "id": "mWF3QiIzUStl"
      }
    },
    {
      "cell_type": "code",
      "source": [
        "Name = \"Chhavi Gupta\"\n",
        "print(\"Name:\", Name)\n"
      ],
      "metadata": {
        "colab": {
          "base_uri": "https://localhost:8080/"
        },
        "id": "-bX4aFtwVO2C",
        "outputId": "ad66c9ab-f80a-4549-ac99-f6f0cb640758"
      },
      "execution_count": null,
      "outputs": [
        {
          "output_type": "stream",
          "name": "stdout",
          "text": [
            "Name: Chhavi Gupta\n"
          ]
        }
      ]
    },
    {
      "cell_type": "markdown",
      "source": [
        "2. Write a code to find the length of the string \"Hello World\"."
      ],
      "metadata": {
        "id": "GlI3g0PMaoBN"
      }
    },
    {
      "cell_type": "code",
      "source": [
        "n = \"Hello World\"\n",
        "len(n)"
      ],
      "metadata": {
        "colab": {
          "base_uri": "https://localhost:8080/"
        },
        "id": "bDGmBaL_aycC",
        "outputId": "74461bf5-a48f-4243-87e5-1fbdaac59c3b"
      },
      "execution_count": null,
      "outputs": [
        {
          "output_type": "execute_result",
          "data": {
            "text/plain": [
              "11"
            ]
          },
          "metadata": {},
          "execution_count": 13
        }
      ]
    },
    {
      "cell_type": "markdown",
      "source": [
        "3. Write a code to slice the first 3 characters from the string \"Python Programming\"."
      ],
      "metadata": {
        "id": "a0PiDQpFbAfK"
      }
    },
    {
      "cell_type": "code",
      "source": [
        "n = \"Python Programming\"\n",
        "n[:3]"
      ],
      "metadata": {
        "colab": {
          "base_uri": "https://localhost:8080/",
          "height": 36
        },
        "id": "19vKiO9rbFVb",
        "outputId": "969a5cd9-dfb8-48a3-c813-1f9a45419c6f"
      },
      "execution_count": null,
      "outputs": [
        {
          "output_type": "execute_result",
          "data": {
            "text/plain": [
              "'Pyt'"
            ],
            "application/vnd.google.colaboratory.intrinsic+json": {
              "type": "string"
            }
          },
          "metadata": {},
          "execution_count": 14
        }
      ]
    },
    {
      "cell_type": "markdown",
      "source": [
        "4. Write a code to convert the string \"hello\" to uppercase."
      ],
      "metadata": {
        "id": "GxmapzLPbYxQ"
      }
    },
    {
      "cell_type": "code",
      "source": [
        "n = \"hello\"\n",
        "n.upper()"
      ],
      "metadata": {
        "colab": {
          "base_uri": "https://localhost:8080/",
          "height": 36
        },
        "id": "cgC8cx37a7ac",
        "outputId": "b3c5e362-e4a9-4d77-bb8d-665639f05fd7"
      },
      "execution_count": null,
      "outputs": [
        {
          "output_type": "execute_result",
          "data": {
            "text/plain": [
              "'HELLO'"
            ],
            "application/vnd.google.colaboratory.intrinsic+json": {
              "type": "string"
            }
          },
          "metadata": {},
          "execution_count": 15
        }
      ]
    },
    {
      "cell_type": "markdown",
      "source": [
        "5. Write a code to replace the word \"apple\" with \"orange\" in the string \"I like apple\"."
      ],
      "metadata": {
        "id": "m1AUj5zubkuk"
      }
    },
    {
      "cell_type": "code",
      "source": [
        "n = \"I like apple\"\n",
        "n.replace(\"apple\", \"orange\")\n",
        "\n"
      ],
      "metadata": {
        "colab": {
          "base_uri": "https://localhost:8080/",
          "height": 36
        },
        "id": "HtssTyxNbt39",
        "outputId": "f21d9bcf-ddfb-47b6-dd2c-77b0e501f4f5"
      },
      "execution_count": null,
      "outputs": [
        {
          "output_type": "execute_result",
          "data": {
            "text/plain": [
              "'I like orange'"
            ],
            "application/vnd.google.colaboratory.intrinsic+json": {
              "type": "string"
            }
          },
          "metadata": {},
          "execution_count": 25
        }
      ]
    },
    {
      "cell_type": "markdown",
      "source": [
        "6. Write a code to create a list with numbers 1 to 5 and print it."
      ],
      "metadata": {
        "id": "UjqD9sY6dIdt"
      }
    },
    {
      "cell_type": "code",
      "source": [
        "list = [1,2,3,4,5]\n",
        "print(list)"
      ],
      "metadata": {
        "id": "3XSc2V0ohNF-",
        "colab": {
          "base_uri": "https://localhost:8080/"
        },
        "outputId": "85478860-e84a-48fa-ded5-cc6d824c1899"
      },
      "execution_count": null,
      "outputs": [
        {
          "output_type": "stream",
          "name": "stdout",
          "text": [
            "[1, 2, 3, 4, 5]\n"
          ]
        }
      ]
    },
    {
      "cell_type": "markdown",
      "source": [
        "7. Write a code to append the number 10 to the list [1, 2, 3, 4]."
      ],
      "metadata": {
        "id": "7C_0r9hBdyog"
      }
    },
    {
      "cell_type": "code",
      "source": [
        "lst = [1,2,3,4]\n",
        "lst.append(10)\n",
        "print(lst)\n"
      ],
      "metadata": {
        "colab": {
          "base_uri": "https://localhost:8080/"
        },
        "id": "aCWroXOSd8ZF",
        "outputId": "802ea836-6d60-4dcc-8213-594d24b84cf0"
      },
      "execution_count": null,
      "outputs": [
        {
          "output_type": "stream",
          "name": "stdout",
          "text": [
            "[1, 2, 3, 4, 10]\n"
          ]
        }
      ]
    },
    {
      "cell_type": "markdown",
      "source": [
        "8. Write a code to remove the number 3 from the list [1, 2, 3, 4, 5]."
      ],
      "metadata": {
        "id": "cISALJFqeO0D"
      }
    },
    {
      "cell_type": "code",
      "source": [
        "lst = [1,2,3,4,5]\n",
        "lst.remove(3)\n",
        "print(lst)"
      ],
      "metadata": {
        "colab": {
          "base_uri": "https://localhost:8080/"
        },
        "id": "0FiOjT58eVAC",
        "outputId": "5cb1e59a-418c-4936-a0eb-9da41b47818a"
      },
      "execution_count": null,
      "outputs": [
        {
          "output_type": "stream",
          "name": "stdout",
          "text": [
            "[1, 2, 4, 5]\n"
          ]
        }
      ]
    },
    {
      "cell_type": "markdown",
      "source": [
        "9. Write a code to access the second element in the list ['a', 'b', 'c', 'd']."
      ],
      "metadata": {
        "id": "vTRmg2adeh1C"
      }
    },
    {
      "cell_type": "code",
      "source": [
        "list = ['a', 'b', 'c', 'd']\n",
        "list[1]\n"
      ],
      "metadata": {
        "id": "53wvRAYofKjk",
        "colab": {
          "base_uri": "https://localhost:8080/",
          "height": 36
        },
        "outputId": "447dda76-9ea3-41ab-f8ce-a905461cbbbd"
      },
      "execution_count": null,
      "outputs": [
        {
          "output_type": "execute_result",
          "data": {
            "text/plain": [
              "'b'"
            ],
            "application/vnd.google.colaboratory.intrinsic+json": {
              "type": "string"
            }
          },
          "metadata": {},
          "execution_count": 6
        }
      ]
    },
    {
      "cell_type": "markdown",
      "source": [
        "10. Write a code to reverse the list [10, 20, 30, 40, 50]."
      ],
      "metadata": {
        "id": "Xg33SxsHfK-P"
      }
    },
    {
      "cell_type": "code",
      "source": [
        "lst = [10, 20, 30, 40, 50]\n",
        "lst[::-1]"
      ],
      "metadata": {
        "colab": {
          "base_uri": "https://localhost:8080/"
        },
        "id": "nxqxWhaufPHE",
        "outputId": "ae8950ba-1450-441c-f50a-92c960d232e7"
      },
      "execution_count": null,
      "outputs": [
        {
          "output_type": "execute_result",
          "data": {
            "text/plain": [
              "[50, 40, 30, 20, 10]"
            ]
          },
          "metadata": {},
          "execution_count": 46
        }
      ]
    },
    {
      "cell_type": "markdown",
      "source": [
        "11.  Write a code to create a tuple with the elements 100, 200, 300 and print it."
      ],
      "metadata": {
        "id": "DbSrlFy7fo7L"
      }
    },
    {
      "cell_type": "code",
      "source": [
        "n = (100, 200, 300)\n",
        "print(n)"
      ],
      "metadata": {
        "colab": {
          "base_uri": "https://localhost:8080/"
        },
        "id": "jtw18ZOKfuTu",
        "outputId": "799d08a0-de1f-4df1-cb84-020d21e9380b"
      },
      "execution_count": null,
      "outputs": [
        {
          "output_type": "stream",
          "name": "stdout",
          "text": [
            "(100, 200, 300)\n"
          ]
        }
      ]
    },
    {
      "cell_type": "markdown",
      "source": [
        "12.  Write a code to access the second-to-last element of the tuple ('red', 'green', 'blue', 'yellow')."
      ],
      "metadata": {
        "id": "D01lkmZ9gLag"
      }
    },
    {
      "cell_type": "code",
      "source": [
        "Tuple = ('red', 'green', 'blue', 'yellow')\n",
        "Tuple[1:4]"
      ],
      "metadata": {
        "id": "aS95ceDwg6Bn",
        "colab": {
          "base_uri": "https://localhost:8080/"
        },
        "outputId": "0b3e8af5-8b66-434f-9a54-8dd622dab7af"
      },
      "execution_count": null,
      "outputs": [
        {
          "output_type": "execute_result",
          "data": {
            "text/plain": [
              "('green', 'blue', 'yellow')"
            ]
          },
          "metadata": {},
          "execution_count": 14
        }
      ]
    },
    {
      "cell_type": "markdown",
      "source": [
        "13.  Write a code to find the minimum number in the tuple (10, 20, 5, 15)."
      ],
      "metadata": {
        "id": "iGeqp55lg5Tq"
      }
    },
    {
      "cell_type": "code",
      "source": [
        "tuple = (10, 20, 5, 15)\n",
        "min(tuple)\n"
      ],
      "metadata": {
        "id": "onM85gKOhBeA",
        "colab": {
          "base_uri": "https://localhost:8080/"
        },
        "outputId": "b1d5fbea-d9ae-4778-dd69-c884be465072"
      },
      "execution_count": null,
      "outputs": [
        {
          "output_type": "execute_result",
          "data": {
            "text/plain": [
              "5"
            ]
          },
          "metadata": {},
          "execution_count": 17
        }
      ]
    },
    {
      "cell_type": "markdown",
      "source": [
        "14. Write a code to find the index of the element \"cat\" in the tuple ('dog', 'cat', 'rabbit')."
      ],
      "metadata": {
        "id": "OrJLgeI0HI-O"
      }
    },
    {
      "cell_type": "code",
      "source": [
        "tuple = ('dog', 'cat', 'rabbit')\n",
        "tuple.index('cat')"
      ],
      "metadata": {
        "colab": {
          "base_uri": "https://localhost:8080/"
        },
        "id": "lAUUstq9IHqo",
        "outputId": "c261d650-6086-4ce5-c863-7d300c1a97f7"
      },
      "execution_count": null,
      "outputs": [
        {
          "output_type": "execute_result",
          "data": {
            "text/plain": [
              "1"
            ]
          },
          "metadata": {},
          "execution_count": 8
        }
      ]
    },
    {
      "cell_type": "markdown",
      "source": [
        "15. Write a code to create a tuple containing three different fruits and check if \"kiwi\" is in it."
      ],
      "metadata": {
        "id": "4g9prdv1Ib1e"
      }
    },
    {
      "cell_type": "code",
      "source": [
        "fruits = ('mango', 'apple', 'kiwi')\n",
        "for i in fruits:\n",
        "  if i == 'kiwi':\n",
        "    print(True)\n",
        "\n"
      ],
      "metadata": {
        "colab": {
          "base_uri": "https://localhost:8080/"
        },
        "id": "G4Vk_CPJIhFn",
        "outputId": "c3b5f6af-7b70-470c-db11-cf6ea86cfeef"
      },
      "execution_count": null,
      "outputs": [
        {
          "output_type": "stream",
          "name": "stdout",
          "text": [
            "True\n"
          ]
        }
      ]
    },
    {
      "cell_type": "markdown",
      "source": [
        "16.  Write a code to create a set with the elements 'a', 'b', 'c' and print it."
      ],
      "metadata": {
        "id": "x-ghK9TgI_Hh"
      }
    },
    {
      "cell_type": "code",
      "source": [
        "a = {'a', 'b', 'c'}\n",
        "print(a)"
      ],
      "metadata": {
        "colab": {
          "base_uri": "https://localhost:8080/"
        },
        "id": "DTW9E6xVKB-7",
        "outputId": "5b895f4f-cf23-4d4e-ad46-c1e1d0d5ee43"
      },
      "execution_count": null,
      "outputs": [
        {
          "output_type": "stream",
          "name": "stdout",
          "text": [
            "{'b', 'c', 'a'}\n"
          ]
        }
      ]
    },
    {
      "cell_type": "markdown",
      "source": [
        "17.  Write a code to clear all elements from the set {1, 2, 3, 4, 5}."
      ],
      "metadata": {
        "id": "dPvVluXLKQ4f"
      }
    },
    {
      "cell_type": "code",
      "source": [
        "set = {1, 2, 3,4,5}\n",
        "set.clear()\n",
        "print(set)"
      ],
      "metadata": {
        "colab": {
          "base_uri": "https://localhost:8080/"
        },
        "id": "NJtf3hUqKU4y",
        "outputId": "54494ed7-209a-4e14-f2f6-7193344626db"
      },
      "execution_count": null,
      "outputs": [
        {
          "output_type": "stream",
          "name": "stdout",
          "text": [
            "set()\n"
          ]
        }
      ]
    },
    {
      "cell_type": "markdown",
      "source": [
        "18. Write a code to remove the element 4 from the set {1, 2, 3, 4}."
      ],
      "metadata": {
        "id": "VRmG4KezKttb"
      }
    },
    {
      "cell_type": "code",
      "source": [
        "set = {1,2,3,4}\n",
        "set.remove(4)\n",
        "print(set)\n"
      ],
      "metadata": {
        "colab": {
          "base_uri": "https://localhost:8080/"
        },
        "id": "a4yc2EbFK8uv",
        "outputId": "68e1774d-18c9-4884-dd06-fc71ce53896e"
      },
      "execution_count": null,
      "outputs": [
        {
          "output_type": "stream",
          "name": "stdout",
          "text": [
            "{1, 2, 3}\n"
          ]
        }
      ]
    },
    {
      "cell_type": "markdown",
      "source": [
        "19.  Write a code to find the union of two sets {1, 2, 3} and {3, 4, 5}."
      ],
      "metadata": {
        "id": "wdA4WcpILjYP"
      }
    },
    {
      "cell_type": "code",
      "source": [
        "set1 = {1,2,3}\n",
        "set2 = {3,4,5}\n",
        "set1|set2\n"
      ],
      "metadata": {
        "colab": {
          "base_uri": "https://localhost:8080/"
        },
        "id": "bVUZu-RoLpcq",
        "outputId": "6eb6522f-c56e-47fe-c29f-e63231a77bef"
      },
      "execution_count": null,
      "outputs": [
        {
          "output_type": "execute_result",
          "data": {
            "text/plain": [
              "{1, 2, 3, 4, 5}"
            ]
          },
          "metadata": {},
          "execution_count": 24
        }
      ]
    },
    {
      "cell_type": "markdown",
      "source": [
        "20.  Write a code to find the intersection of two sets {1, 2, 3} and {2, 3, 4}."
      ],
      "metadata": {
        "id": "3on-deoCMOX1"
      }
    },
    {
      "cell_type": "code",
      "source": [
        "set1 = {1,2,3}\n",
        "set2 = {2,3,4}\n",
        "set1&set2"
      ],
      "metadata": {
        "colab": {
          "base_uri": "https://localhost:8080/"
        },
        "id": "nhYxVjKyMWJh",
        "outputId": "0b065d7c-0c87-4068-e29e-4530bd71f317"
      },
      "execution_count": null,
      "outputs": [
        {
          "output_type": "execute_result",
          "data": {
            "text/plain": [
              "{2, 3}"
            ]
          },
          "metadata": {},
          "execution_count": 25
        }
      ]
    },
    {
      "cell_type": "markdown",
      "source": [
        "21.  Write a code to create a dictionary with the keys \"name\", \"age\", and \"city\", and print it."
      ],
      "metadata": {
        "id": "pTEeBqvBMpq4"
      }
    },
    {
      "cell_type": "code",
      "source": [
        "Dict = {\"name\":\"chhavi \", \"age\":19, \"city\":\"delhi\"}\n",
        "Dict"
      ],
      "metadata": {
        "id": "AP0lIkghMvc2",
        "colab": {
          "base_uri": "https://localhost:8080/"
        },
        "outputId": "95339a8a-5d56-476c-a3fb-b13f531b9c99"
      },
      "execution_count": null,
      "outputs": [
        {
          "output_type": "execute_result",
          "data": {
            "text/plain": [
              "{'name': 'chhavi ', 'age': 19, 'city': 'delhi'}"
            ]
          },
          "metadata": {},
          "execution_count": 23
        }
      ]
    },
    {
      "cell_type": "markdown",
      "source": [
        "22. Write a code to add a new key-value pair \"country\": \"USA\" to the dictionary {'name': 'John', 'age': 25}"
      ],
      "metadata": {
        "id": "_BEaqkge_raj"
      }
    },
    {
      "cell_type": "code",
      "source": [
        "dict = {\"name\":\"John\", \"age\":25,}\n",
        "dict[\"country\"] = \"USA\"\n",
        "dict"
      ],
      "metadata": {
        "colab": {
          "base_uri": "https://localhost:8080/"
        },
        "id": "pMkggztx__BG",
        "outputId": "d96de923-8d6a-4f56-b7a5-0489c1417b56"
      },
      "execution_count": null,
      "outputs": [
        {
          "output_type": "execute_result",
          "data": {
            "text/plain": [
              "{'name': 'John', 'age': 25, 'country': 'USA'}"
            ]
          },
          "metadata": {},
          "execution_count": 30
        }
      ]
    },
    {
      "cell_type": "markdown",
      "source": [
        "23. Write a code to access the value associated with the key \"name\" in the dictionary {'name': 'Alice', 'age': 30}."
      ],
      "metadata": {
        "id": "4-thKoswBUaV"
      }
    },
    {
      "cell_type": "code",
      "source": [
        "Dict = {\"name\":\"Alice\", \"Age\":30}\n",
        "Dict[\"name\"]"
      ],
      "metadata": {
        "colab": {
          "base_uri": "https://localhost:8080/",
          "height": 36
        },
        "id": "3W2d1o1_BZip",
        "outputId": "897d84b2-7728-4326-ab80-4ea2dfb88153"
      },
      "execution_count": null,
      "outputs": [
        {
          "output_type": "execute_result",
          "data": {
            "text/plain": [
              "'Alice'"
            ],
            "application/vnd.google.colaboratory.intrinsic+json": {
              "type": "string"
            }
          },
          "metadata": {},
          "execution_count": 33
        }
      ]
    },
    {
      "cell_type": "markdown",
      "source": [
        "24. Write a code to remove the key \"age\" from the dictionary {'name': 'Bob', 'age': 22, 'city': 'New York'}."
      ],
      "metadata": {
        "id": "9p-WRy3KB7zW"
      }
    },
    {
      "cell_type": "code",
      "source": [
        "dict = {\"name\":\"Bob\", \"age\":22, \"city\":\"New York\"}\n",
        "del dict[\"age\"]\n",
        "dict"
      ],
      "metadata": {
        "colab": {
          "base_uri": "https://localhost:8080/"
        },
        "id": "xH6Yxac-B_uo",
        "outputId": "6f86ff26-9cf5-4d4b-ca9b-d6b754d4b6b6"
      },
      "execution_count": null,
      "outputs": [
        {
          "output_type": "execute_result",
          "data": {
            "text/plain": [
              "{'name': 'Bob', 'city': 'New York'}"
            ]
          },
          "metadata": {},
          "execution_count": 36
        }
      ]
    },
    {
      "cell_type": "markdown",
      "source": [
        "25. Write a code to check if the key \"city\" exists in the dictionary {'name': 'Alice', 'city': 'Paris'}."
      ],
      "metadata": {
        "id": "9-hy__0sCtrZ"
      }
    },
    {
      "cell_type": "code",
      "source": [
        "dict = {\"name\":\"Alice\", \"city\":\"Paris\"}\n",
        "i = \"city\"\n",
        "if i in dict:\n",
        "  print(True)"
      ],
      "metadata": {
        "colab": {
          "base_uri": "https://localhost:8080/"
        },
        "id": "JwVnRQ5BCy3v",
        "outputId": "7cd4d94d-ae48-4758-fbd1-5b26bfad7a28"
      },
      "execution_count": null,
      "outputs": [
        {
          "output_type": "stream",
          "name": "stdout",
          "text": [
            "True\n"
          ]
        }
      ]
    },
    {
      "cell_type": "markdown",
      "source": [
        "26. Write a code to create a list, a tuple, and a dictionary, and print them all."
      ],
      "metadata": {
        "id": "ostUCYytDVI-"
      }
    },
    {
      "cell_type": "code",
      "source": [
        "list = [1,2,3,4]\n",
        "print(list)\n",
        "tuple = (\"hello world!\")\n",
        "print(tuple)\n",
        "dict = {\"name\":\"chhavi\", \"age\":19}\n",
        "print(dict)"
      ],
      "metadata": {
        "colab": {
          "base_uri": "https://localhost:8080/"
        },
        "id": "2-HUKBoJDZW_",
        "outputId": "9c2f288a-5cb8-460b-d707-f51dbaa12736"
      },
      "execution_count": null,
      "outputs": [
        {
          "output_type": "stream",
          "name": "stdout",
          "text": [
            "[1, 2, 3, 4]\n",
            "hello world!\n",
            "<class 'type'>\n",
            "{'name': 'chhavi', 'age': 19}\n"
          ]
        }
      ]
    },
    {
      "cell_type": "markdown",
      "source": [
        "27. Write a code to create a list of 5 random numbers between 1 and 100, sort it in ascending order, and print the\n",
        "result.(replaced)"
      ],
      "metadata": {
        "id": "3-emIb0sE9pw"
      }
    },
    {
      "cell_type": "code",
      "source": [
        "list = [3,8,98,67,76]\n",
        "list.sort()\n",
        "list"
      ],
      "metadata": {
        "colab": {
          "base_uri": "https://localhost:8080/"
        },
        "id": "jrqmBz5eE_P9",
        "outputId": "ce8b1b1f-41d7-42da-b2fc-77671eedc9b8"
      },
      "execution_count": null,
      "outputs": [
        {
          "output_type": "execute_result",
          "data": {
            "text/plain": [
              "[3, 8, 67, 76, 98]"
            ]
          },
          "metadata": {},
          "execution_count": 45
        }
      ]
    },
    {
      "cell_type": "markdown",
      "source": [
        "28.  Write a code to create a list with strings and print the element at the third index."
      ],
      "metadata": {
        "id": "WXCtnolhFMkz"
      }
    },
    {
      "cell_type": "code",
      "source": [
        "list = [\"Mango\", \"Apple\", \"Lemon\", \"Cherry\"]\n",
        "list[2]\n"
      ],
      "metadata": {
        "colab": {
          "base_uri": "https://localhost:8080/",
          "height": 36
        },
        "id": "FBPB3LXDFSiy",
        "outputId": "487c34a5-01fd-43d8-e95f-feeee0a35827"
      },
      "execution_count": null,
      "outputs": [
        {
          "output_type": "execute_result",
          "data": {
            "text/plain": [
              "'Lemon'"
            ],
            "application/vnd.google.colaboratory.intrinsic+json": {
              "type": "string"
            }
          },
          "metadata": {},
          "execution_count": 49
        }
      ]
    },
    {
      "cell_type": "markdown",
      "source": [
        "29. Write a code to combine two dictionaries into one and print the result."
      ],
      "metadata": {
        "id": "n6-Kd1PJLaej"
      }
    },
    {
      "cell_type": "code",
      "source": [
        "dict1 = {\"name\":\"Ram\", \"age\":24, \"contact\":94668}\n",
        "dict2 = {\"city\":\"Paris\", \"status\":\"singe\"}\n",
        "dict1.update(dict2)\n",
        "dict1\n"
      ],
      "metadata": {
        "colab": {
          "base_uri": "https://localhost:8080/"
        },
        "id": "-lYk1NqiLh8g",
        "outputId": "14afcef3-0a89-4d77-b963-131c93dd06b3"
      },
      "execution_count": null,
      "outputs": [
        {
          "output_type": "execute_result",
          "data": {
            "text/plain": [
              "{'name': 'Ram',\n",
              " 'age': 24,\n",
              " 'contact': 94668,\n",
              " 'city': 'Paris',\n",
              " 'status': 'singe'}"
            ]
          },
          "metadata": {},
          "execution_count": 51
        }
      ]
    },
    {
      "cell_type": "markdown",
      "source": [
        "30.  Write a code to convert a list of strings into a set."
      ],
      "metadata": {
        "id": "iiRzDBDzMkhI"
      }
    },
    {
      "cell_type": "code",
      "source": [
        "list = [\"apple\", \"mango\", \"pear\", \"cherry\"]\n",
        "set(list)"
      ],
      "metadata": {
        "colab": {
          "base_uri": "https://localhost:8080/"
        },
        "id": "ASaozk68MqS1",
        "outputId": "f22ea640-8506-49eb-ea52-06fdf27d7112"
      },
      "execution_count": null,
      "outputs": [
        {
          "output_type": "execute_result",
          "data": {
            "text/plain": [
              "{'apple', 'cherry', 'mango', 'pear'}"
            ]
          },
          "metadata": {},
          "execution_count": 52
        }
      ]
    }
  ]
}